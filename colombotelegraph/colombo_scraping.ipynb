{
 "cells": [
  {
   "cell_type": "code",
   "execution_count": 1,
   "metadata": {},
   "outputs": [],
   "source": [
    "import requests\n",
    "from bs4 import BeautifulSoup\n",
    "import pandas as pd"
   ]
  },
  {
   "cell_type": "code",
   "execution_count": 2,
   "metadata": {},
   "outputs": [],
   "source": [
    "data = pd.read_csv('articles_urls.csv')"
   ]
  },
  {
   "cell_type": "code",
   "execution_count": 5,
   "metadata": {},
   "outputs": [],
   "source": [
    "urls = data['url'].tolist()"
   ]
  },
  {
   "cell_type": "code",
   "execution_count": 7,
   "metadata": {},
   "outputs": [],
   "source": [
    "# Function to scrape a single URL\n",
    "def scrape_url(url):\n",
    "    response = requests.get(url)\n",
    "    soup = BeautifulSoup(response.content, 'html.parser')\n",
    "\n",
    "    date_div = soup.find('div', itemprop='dateCreated')\n",
    "    date_link = date_div.find('a') if date_div else None\n",
    "    date_text = date_link.text.strip() if date_link else 'Date not found'\n",
    "    \n",
    "    # Extracting the Title, Author, Date, and Content\n",
    "    title = soup.find('h1', class_='eltd-post-title').get_text(strip=True)\n",
    "    author = soup.find('a', class_='eltd-post-info-author-link').get_text(strip=True)\n",
    "    date_div = soup.find('div', itemprop='dateCreated')\n",
    "    date_link = date_div.find('a') if date_div else None\n",
    "    date = date_link.text.strip() if date_link else 'Date not found'\n",
    "    comments = soup.find('a', class_='eltd-post-info-comments').get_text(strip=True)\n",
    "    content = soup.find('div', class_='pf-content').get_text(strip=True)\n",
    "\n",
    "    return {\n",
    "        'website': 'Colombo Telegraph',\n",
    "        'date': date,\n",
    "        'title': title,\n",
    "        'author': author.strip('author: '),\n",
    "        'article': content,\n",
    "        'comments_count': comments.strip(' Comments'),\n",
    "        'url': url\n",
    "    }"
   ]
  },
  {
   "cell_type": "code",
   "execution_count": 8,
   "metadata": {},
   "outputs": [],
   "source": [
    "# Main function to scrape all URLs\n",
    "def main():\n",
    "    results = []\n",
    "    for url in urls:\n",
    "        try:\n",
    "            result = scrape_url(url)\n",
    "            results.append(result)\n",
    "        except Exception as e:\n",
    "            print(f\"Error scraping {url}: {e}\")\n",
    "\n",
    "    #print(results)\n",
    "    # Print the results\n",
    "    #for result in results:\n",
    "    #    print(result)\n",
    "    \n",
    "    # Convertendo os resultados para um DataFrame do Pandas\n",
    "    df = pd.DataFrame(results)\n",
    "\n",
    "    # Exportando o DataFrame para um arquivo CSV\n",
    "    df.to_csv('news-english-colombo_telegraph-whaner_endo.csv', index=False, encoding='utf-8')\n",
    "\n",
    "    #print(\"Exportação para CSV concluída com Pandas.\")\n",
    "\n",
    "if __name__ == \"__main__\":\n",
    "    main()"
   ]
  }
 ],
 "metadata": {
  "kernelspec": {
   "display_name": "omdena",
   "language": "python",
   "name": "python3"
  },
  "language_info": {
   "codemirror_mode": {
    "name": "ipython",
    "version": 3
   },
   "file_extension": ".py",
   "mimetype": "text/x-python",
   "name": "python",
   "nbconvert_exporter": "python",
   "pygments_lexer": "ipython3",
   "version": "3.11.3"
  }
 },
 "nbformat": 4,
 "nbformat_minor": 2
}
