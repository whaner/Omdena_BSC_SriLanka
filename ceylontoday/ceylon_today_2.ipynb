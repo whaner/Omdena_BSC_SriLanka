{
 "cells": [
  {
   "cell_type": "code",
   "execution_count": 22,
   "metadata": {},
   "outputs": [],
   "source": [
    "import requests\n",
    "from bs4 import BeautifulSoup\n",
    "import pandas as pd"
   ]
  },
  {
   "cell_type": "code",
   "execution_count": 23,
   "metadata": {},
   "outputs": [],
   "source": [
    "data = pd.read_csv('ceylon_today_daily_urls.csv')\n",
    "urls = data['url'].tolist()"
   ]
  },
  {
   "cell_type": "code",
   "execution_count": 43,
   "metadata": {},
   "outputs": [],
   "source": [
    "#urls1 = urls[1:101]\n",
    "#urls2 = urls[101:1001]\n",
    "#urls3 = urls[1001:3001]\n",
    "#urls4 = urls[3001:4001]\n",
    "#urls5 = urls[4001:5001]\n",
    "#urls6 = urls[5001:6001]\n",
    "#urls7 = urls[6001:7500]\n",
    "#urls8 = urls[7500:9001]\n",
    "#urls9 = urls[9001:10500]\n",
    "urls10 = urls[10500:13112]\n"
   ]
  },
  {
   "cell_type": "code",
   "execution_count": null,
   "metadata": {},
   "outputs": [],
   "source": [
    "scrape_url('https://ceylontoday.lk/2024/02/14/ports-ministry-says-harins-statement-not-true/')"
   ]
  },
  {
   "cell_type": "code",
   "execution_count": 26,
   "metadata": {},
   "outputs": [],
   "source": [
    "def scrape_url(url):\n",
    "    response = requests.get(url)\n",
    "    soup = BeautifulSoup(response.content, 'html.parser')\n",
    "\n",
    "    # Extract the title\n",
    "    title_tag = soup.find('h1', class_='entry-title')\n",
    "    title = title_tag.text if title_tag else 'Title not found'\n",
    "\n",
    "    # Extract the author and content\n",
    "    article_tag = soup.find('article')\n",
    "    if article_tag:\n",
    "        p_tags = article_tag.find_all('p')\n",
    "        #if p_tags and p_tags[0].text.startswith('By '):\n",
    "        if p_tags and (p_tags[0].text.startswith('By ') or p_tags[0].text.startswith('BY ')):    \n",
    "            author = p_tags[0].text  # Author is extracted from the first <p> tag\n",
    "            content = ' '.join(p.text for p in p_tags[1:])  # Exclude the first <p> tag from content\n",
    "        else:\n",
    "            author = 'Author not found'\n",
    "            content = ' '.join(p.text for p in p_tags)  # Include all <p> tags in content\n",
    "    else:\n",
    "        content = 'Content not found'\n",
    "        author = 'Author not found'\n",
    "\n",
    "    # Extract the publication date\n",
    "    date_tag = soup.find('meta', {'property': 'article:published_time'})\n",
    "    date = date_tag['content'] if date_tag else 'Date not found'\n",
    "\n",
    "    # Extract the number of comments\n",
    "    comments_tag = soup.find('div', class_='td-post-comments')\n",
    "    comments = comments_tag.find('a').text if comments_tag else 'Comments not found'\n",
    "\n",
    "\n",
    "    return {\n",
    "        'url': url,\n",
    "        'title': title,\n",
    "        'author': author,#.strip('author: '),\n",
    "        'comments': comments,#.strip(' Comments'),\n",
    "        'Date': date,\n",
    "        'Content': content\n",
    "    }"
   ]
  },
  {
   "cell_type": "code",
   "execution_count": 44,
   "metadata": {},
   "outputs": [],
   "source": [
    "# Main function to scrape all URLs\n",
    "def main():\n",
    "    results = []\n",
    "    for url in urls10:\n",
    "        try:\n",
    "            result = scrape_url(url)\n",
    "            results.append(result)\n",
    "        except Exception as e:\n",
    "            print(f\"Error scraping {url}: {e}\")\n",
    "\n",
    "    #print(results)\n",
    "    # Print the results\n",
    "    #for result in results:\n",
    "    #    print(result)\n",
    "    \n",
    "    # Convertendo os resultados para um DataFrame do Pandas\n",
    "    df = pd.DataFrame(results)\n",
    "\n",
    "    # Exportando o DataFrame para um arquivo CSV\n",
    "    df.to_csv('news-english-ceylon_today_daily-whaner_endo10.csv', index=False, encoding='utf-8')\n",
    "\n",
    "    #print(\"Exportação para CSV concluída com Pandas.\")\n",
    "\n",
    "if __name__ == \"__main__\":\n",
    "    main()"
   ]
  },
  {
   "cell_type": "code",
   "execution_count": null,
   "metadata": {},
   "outputs": [],
   "source": []
  }
 ],
 "metadata": {
  "kernelspec": {
   "display_name": "omdena",
   "language": "python",
   "name": "python3"
  },
  "language_info": {
   "codemirror_mode": {
    "name": "ipython",
    "version": 3
   },
   "file_extension": ".py",
   "mimetype": "text/x-python",
   "name": "python",
   "nbconvert_exporter": "python",
   "pygments_lexer": "ipython3",
   "version": "3.11.3"
  }
 },
 "nbformat": 4,
 "nbformat_minor": 2
}
