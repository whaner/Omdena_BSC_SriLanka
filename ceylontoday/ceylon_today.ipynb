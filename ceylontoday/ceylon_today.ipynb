{
 "cells": [
  {
   "cell_type": "code",
   "execution_count": 1,
   "metadata": {},
   "outputs": [],
   "source": [
    "import pandas as pd"
   ]
  },
  {
   "cell_type": "code",
   "execution_count": 2,
   "metadata": {},
   "outputs": [],
   "source": [
    "df = pd.read_csv('news-english-ceylon_today-whaner_endo.csv', delimiter=',')"
   ]
  },
  {
   "cell_type": "code",
   "execution_count": 3,
   "metadata": {},
   "outputs": [
    {
     "data": {
      "text/html": [
       "<div>\n",
       "<style scoped>\n",
       "    .dataframe tbody tr th:only-of-type {\n",
       "        vertical-align: middle;\n",
       "    }\n",
       "\n",
       "    .dataframe tbody tr th {\n",
       "        vertical-align: top;\n",
       "    }\n",
       "\n",
       "    .dataframe thead th {\n",
       "        text-align: right;\n",
       "    }\n",
       "</style>\n",
       "<table border=\"1\" class=\"dataframe\">\n",
       "  <thead>\n",
       "    <tr style=\"text-align: right;\">\n",
       "      <th></th>\n",
       "      <th>url</th>\n",
       "      <th>title</th>\n",
       "      <th>author</th>\n",
       "      <th>comments</th>\n",
       "      <th>Date</th>\n",
       "      <th>Content</th>\n",
       "    </tr>\n",
       "  </thead>\n",
       "  <tbody>\n",
       "    <tr>\n",
       "      <th>0</th>\n",
       "      <td>https://ceylontoday.lk/2024/02/10/only-four-ch...</td>\n",
       "      <td>ONLY FOUR CHILD PSYCHIATRISTS FOR OVER 6M CHIL...</td>\n",
       "      <td>By Dilanthi Jayamanne</td>\n",
       "      <td>0</td>\n",
       "      <td>2024-02-09T20:36:00+00:00</td>\n",
       "      <td>In a startling revelation, Prof. Miyuru Chandr...</td>\n",
       "    </tr>\n",
       "    <tr>\n",
       "      <th>1</th>\n",
       "      <td>https://ceylontoday.lk/2024/02/10/ird-ciaboc-f...</td>\n",
       "      <td>IRD, CIABOC fail to act on Pandora Papers reve...</td>\n",
       "      <td>By Mithun Jayawardhana</td>\n",
       "      <td>0</td>\n",
       "      <td>2024-02-09T20:33:00+00:00</td>\n",
       "      <td>The Inland Revenue Department (IRD) and the Co...</td>\n",
       "    </tr>\n",
       "    <tr>\n",
       "      <th>2</th>\n",
       "      <td>https://ceylontoday.lk/2024/02/10/corrupt-offi...</td>\n",
       "      <td>Corrupt officials pose major hurdle – Aluthgamage</td>\n",
       "      <td>By Mithun Jayawardhana</td>\n",
       "      <td>0</td>\n",
       "      <td>2024-02-09T20:33:00+00:00</td>\n",
       "      <td>The intervention of the Inland Revenue Departm...</td>\n",
       "    </tr>\n",
       "    <tr>\n",
       "      <th>3</th>\n",
       "      <td>https://ceylontoday.lk/2024/02/10/president-hi...</td>\n",
       "      <td>President highlights critical need for enhance...</td>\n",
       "      <td>Author not found</td>\n",
       "      <td>0</td>\n",
       "      <td>2024-02-09T20:33:00+00:00</td>\n",
       "      <td>President Ranil Wickremesinghe delivered a spe...</td>\n",
       "    </tr>\n",
       "    <tr>\n",
       "      <th>4</th>\n",
       "      <td>https://ceylontoday.lk/2024/02/10/asthma-among...</td>\n",
       "      <td>Asthma among children rising</td>\n",
       "      <td>By Dilanthi Jayamanne</td>\n",
       "      <td>0</td>\n",
       "      <td>2024-02-09T20:32:00+00:00</td>\n",
       "      <td>Consultant Paediatrician, Lady Ridgeway Hospit...</td>\n",
       "    </tr>\n",
       "  </tbody>\n",
       "</table>\n",
       "</div>"
      ],
      "text/plain": [
       "                                                 url  \\\n",
       "0  https://ceylontoday.lk/2024/02/10/only-four-ch...   \n",
       "1  https://ceylontoday.lk/2024/02/10/ird-ciaboc-f...   \n",
       "2  https://ceylontoday.lk/2024/02/10/corrupt-offi...   \n",
       "3  https://ceylontoday.lk/2024/02/10/president-hi...   \n",
       "4  https://ceylontoday.lk/2024/02/10/asthma-among...   \n",
       "\n",
       "                                               title                  author  \\\n",
       "0  ONLY FOUR CHILD PSYCHIATRISTS FOR OVER 6M CHIL...  By Dilanthi Jayamanne    \n",
       "1  IRD, CIABOC fail to act on Pandora Papers reve...  By Mithun Jayawardhana   \n",
       "2  Corrupt officials pose major hurdle – Aluthgamage  By Mithun Jayawardhana   \n",
       "3  President highlights critical need for enhance...        Author not found   \n",
       "4                       Asthma among children rising  By Dilanthi Jayamanne    \n",
       "\n",
       "  comments                       Date  \\\n",
       "0        0  2024-02-09T20:36:00+00:00   \n",
       "1        0  2024-02-09T20:33:00+00:00   \n",
       "2        0  2024-02-09T20:33:00+00:00   \n",
       "3        0  2024-02-09T20:33:00+00:00   \n",
       "4        0  2024-02-09T20:32:00+00:00   \n",
       "\n",
       "                                             Content  \n",
       "0  In a startling revelation, Prof. Miyuru Chandr...  \n",
       "1  The Inland Revenue Department (IRD) and the Co...  \n",
       "2  The intervention of the Inland Revenue Departm...  \n",
       "3  President Ranil Wickremesinghe delivered a spe...  \n",
       "4  Consultant Paediatrician, Lady Ridgeway Hospit...  "
      ]
     },
     "execution_count": 3,
     "metadata": {},
     "output_type": "execute_result"
    }
   ],
   "source": [
    "df.head()"
   ]
  },
  {
   "cell_type": "code",
   "execution_count": 4,
   "metadata": {},
   "outputs": [],
   "source": [
    "linhas_duplicadas = df.duplicated(subset=['Content'])\n"
   ]
  },
  {
   "cell_type": "code",
   "execution_count": 5,
   "metadata": {},
   "outputs": [
    {
     "data": {
      "text/plain": [
       "0       False\n",
       "1       False\n",
       "2       False\n",
       "3       False\n",
       "4       False\n",
       "        ...  \n",
       "1771     True\n",
       "1772     True\n",
       "1773    False\n",
       "1774     True\n",
       "1775     True\n",
       "Length: 1776, dtype: bool"
      ]
     },
     "execution_count": 5,
     "metadata": {},
     "output_type": "execute_result"
    }
   ],
   "source": [
    "linhas_duplicadas"
   ]
  },
  {
   "cell_type": "code",
   "execution_count": 10,
   "metadata": {},
   "outputs": [],
   "source": [
    "df2 = df.loc[linhas_duplicadas]"
   ]
  },
  {
   "cell_type": "code",
   "execution_count": 8,
   "metadata": {},
   "outputs": [
    {
     "data": {
      "text/plain": [
       "url         https://ceylontoday.lk/2024/02/10/only-four-ch...\n",
       "title       ONLY FOUR CHILD PSYCHIATRISTS FOR OVER 6M CHIL...\n",
       "author                                 By Dilanthi Jayamanne \n",
       "comments                                                    0\n",
       "Date                                2024-02-09T20:36:00+00:00\n",
       "Content     In a startling revelation, Prof. Miyuru Chandr...\n",
       "Name: 10, dtype: object"
      ]
     },
     "execution_count": 8,
     "metadata": {},
     "output_type": "execute_result"
    }
   ],
   "source": [
    "df.iloc[10]"
   ]
  },
  {
   "cell_type": "code",
   "execution_count": 9,
   "metadata": {},
   "outputs": [
    {
     "data": {
      "text/plain": [
       "url         https://ceylontoday.lk/2024/02/10/only-four-ch...\n",
       "title       ONLY FOUR CHILD PSYCHIATRISTS FOR OVER 6M CHIL...\n",
       "author                                 By Dilanthi Jayamanne \n",
       "comments                                                    0\n",
       "Date                                2024-02-09T20:36:00+00:00\n",
       "Content     In a startling revelation, Prof. Miyuru Chandr...\n",
       "Name: 21, dtype: object"
      ]
     },
     "execution_count": 9,
     "metadata": {},
     "output_type": "execute_result"
    }
   ],
   "source": [
    "df.iloc[21]"
   ]
  },
  {
   "cell_type": "code",
   "execution_count": 11,
   "metadata": {},
   "outputs": [
    {
     "data": {
      "text/html": [
       "<div>\n",
       "<style scoped>\n",
       "    .dataframe tbody tr th:only-of-type {\n",
       "        vertical-align: middle;\n",
       "    }\n",
       "\n",
       "    .dataframe tbody tr th {\n",
       "        vertical-align: top;\n",
       "    }\n",
       "\n",
       "    .dataframe thead th {\n",
       "        text-align: right;\n",
       "    }\n",
       "</style>\n",
       "<table border=\"1\" class=\"dataframe\">\n",
       "  <thead>\n",
       "    <tr style=\"text-align: right;\">\n",
       "      <th></th>\n",
       "      <th>url</th>\n",
       "      <th>title</th>\n",
       "      <th>author</th>\n",
       "      <th>comments</th>\n",
       "      <th>Date</th>\n",
       "      <th>Content</th>\n",
       "    </tr>\n",
       "  </thead>\n",
       "  <tbody>\n",
       "    <tr>\n",
       "      <th>10</th>\n",
       "      <td>https://ceylontoday.lk/2024/02/10/only-four-ch...</td>\n",
       "      <td>ONLY FOUR CHILD PSYCHIATRISTS FOR OVER 6M CHIL...</td>\n",
       "      <td>By Dilanthi Jayamanne</td>\n",
       "      <td>0</td>\n",
       "      <td>2024-02-09T20:36:00+00:00</td>\n",
       "      <td>In a startling revelation, Prof. Miyuru Chandr...</td>\n",
       "    </tr>\n",
       "    <tr>\n",
       "      <th>21</th>\n",
       "      <td>https://ceylontoday.lk/2024/02/10/only-four-ch...</td>\n",
       "      <td>ONLY FOUR CHILD PSYCHIATRISTS FOR OVER 6M CHIL...</td>\n",
       "      <td>By Dilanthi Jayamanne</td>\n",
       "      <td>0</td>\n",
       "      <td>2024-02-09T20:36:00+00:00</td>\n",
       "      <td>In a startling revelation, Prof. Miyuru Chandr...</td>\n",
       "    </tr>\n",
       "    <tr>\n",
       "      <th>32</th>\n",
       "      <td>https://ceylontoday.lk/2024/02/10/only-four-ch...</td>\n",
       "      <td>ONLY FOUR CHILD PSYCHIATRISTS FOR OVER 6M CHIL...</td>\n",
       "      <td>By Dilanthi Jayamanne</td>\n",
       "      <td>0</td>\n",
       "      <td>2024-02-09T20:36:00+00:00</td>\n",
       "      <td>In a startling revelation, Prof. Miyuru Chandr...</td>\n",
       "    </tr>\n",
       "    <tr>\n",
       "      <th>43</th>\n",
       "      <td>https://ceylontoday.lk/2024/02/10/only-four-ch...</td>\n",
       "      <td>ONLY FOUR CHILD PSYCHIATRISTS FOR OVER 6M CHIL...</td>\n",
       "      <td>By Dilanthi Jayamanne</td>\n",
       "      <td>0</td>\n",
       "      <td>2024-02-09T20:36:00+00:00</td>\n",
       "      <td>In a startling revelation, Prof. Miyuru Chandr...</td>\n",
       "    </tr>\n",
       "    <tr>\n",
       "      <th>54</th>\n",
       "      <td>https://ceylontoday.lk/2024/02/10/only-four-ch...</td>\n",
       "      <td>ONLY FOUR CHILD PSYCHIATRISTS FOR OVER 6M CHIL...</td>\n",
       "      <td>By Dilanthi Jayamanne</td>\n",
       "      <td>0</td>\n",
       "      <td>2024-02-09T20:36:00+00:00</td>\n",
       "      <td>In a startling revelation, Prof. Miyuru Chandr...</td>\n",
       "    </tr>\n",
       "    <tr>\n",
       "      <th>...</th>\n",
       "      <td>...</td>\n",
       "      <td>...</td>\n",
       "      <td>...</td>\n",
       "      <td>...</td>\n",
       "      <td>...</td>\n",
       "      <td>...</td>\n",
       "    </tr>\n",
       "    <tr>\n",
       "      <th>1770</th>\n",
       "      <td>https://ceylontoday.lk/2024/02/10/only-four-ch...</td>\n",
       "      <td>ONLY FOUR CHILD PSYCHIATRISTS FOR OVER 6M CHIL...</td>\n",
       "      <td>By Dilanthi Jayamanne</td>\n",
       "      <td>0</td>\n",
       "      <td>2024-02-09T20:36:00+00:00</td>\n",
       "      <td>In a startling revelation, Prof. Miyuru Chandr...</td>\n",
       "    </tr>\n",
       "    <tr>\n",
       "      <th>1771</th>\n",
       "      <td>https://ceylontoday.lk/2022/04/17/more-sltb-bu...</td>\n",
       "      <td>Title not found</td>\n",
       "      <td>Author not found</td>\n",
       "      <td>Comments not found</td>\n",
       "      <td>Date not found</td>\n",
       "      <td>Content not found</td>\n",
       "    </tr>\n",
       "    <tr>\n",
       "      <th>1772</th>\n",
       "      <td>https://ceylontoday.lk/2022/04/17/shantha-band...</td>\n",
       "      <td>Title not found</td>\n",
       "      <td>Author not found</td>\n",
       "      <td>Comments not found</td>\n",
       "      <td>Date not found</td>\n",
       "      <td>Content not found</td>\n",
       "    </tr>\n",
       "    <tr>\n",
       "      <th>1774</th>\n",
       "      <td>https://ceylontoday.lk/2022/04/17/easter-attac...</td>\n",
       "      <td>Title not found</td>\n",
       "      <td>Author not found</td>\n",
       "      <td>Comments not found</td>\n",
       "      <td>Date not found</td>\n",
       "      <td>Content not found</td>\n",
       "    </tr>\n",
       "    <tr>\n",
       "      <th>1775</th>\n",
       "      <td>https://ceylontoday.lk/2024/02/10/only-four-ch...</td>\n",
       "      <td>ONLY FOUR CHILD PSYCHIATRISTS FOR OVER 6M CHIL...</td>\n",
       "      <td>By Dilanthi Jayamanne</td>\n",
       "      <td>0</td>\n",
       "      <td>2024-02-09T20:36:00+00:00</td>\n",
       "      <td>In a startling revelation, Prof. Miyuru Chandr...</td>\n",
       "    </tr>\n",
       "  </tbody>\n",
       "</table>\n",
       "<p>405 rows × 6 columns</p>\n",
       "</div>"
      ],
      "text/plain": [
       "                                                    url  \\\n",
       "10    https://ceylontoday.lk/2024/02/10/only-four-ch...   \n",
       "21    https://ceylontoday.lk/2024/02/10/only-four-ch...   \n",
       "32    https://ceylontoday.lk/2024/02/10/only-four-ch...   \n",
       "43    https://ceylontoday.lk/2024/02/10/only-four-ch...   \n",
       "54    https://ceylontoday.lk/2024/02/10/only-four-ch...   \n",
       "...                                                 ...   \n",
       "1770  https://ceylontoday.lk/2024/02/10/only-four-ch...   \n",
       "1771  https://ceylontoday.lk/2022/04/17/more-sltb-bu...   \n",
       "1772  https://ceylontoday.lk/2022/04/17/shantha-band...   \n",
       "1774  https://ceylontoday.lk/2022/04/17/easter-attac...   \n",
       "1775  https://ceylontoday.lk/2024/02/10/only-four-ch...   \n",
       "\n",
       "                                                  title  \\\n",
       "10    ONLY FOUR CHILD PSYCHIATRISTS FOR OVER 6M CHIL...   \n",
       "21    ONLY FOUR CHILD PSYCHIATRISTS FOR OVER 6M CHIL...   \n",
       "32    ONLY FOUR CHILD PSYCHIATRISTS FOR OVER 6M CHIL...   \n",
       "43    ONLY FOUR CHILD PSYCHIATRISTS FOR OVER 6M CHIL...   \n",
       "54    ONLY FOUR CHILD PSYCHIATRISTS FOR OVER 6M CHIL...   \n",
       "...                                                 ...   \n",
       "1770  ONLY FOUR CHILD PSYCHIATRISTS FOR OVER 6M CHIL...   \n",
       "1771                                    Title not found   \n",
       "1772                                    Title not found   \n",
       "1774                                    Title not found   \n",
       "1775  ONLY FOUR CHILD PSYCHIATRISTS FOR OVER 6M CHIL...   \n",
       "\n",
       "                      author            comments                       Date  \\\n",
       "10    By Dilanthi Jayamanne                    0  2024-02-09T20:36:00+00:00   \n",
       "21    By Dilanthi Jayamanne                    0  2024-02-09T20:36:00+00:00   \n",
       "32    By Dilanthi Jayamanne                    0  2024-02-09T20:36:00+00:00   \n",
       "43    By Dilanthi Jayamanne                    0  2024-02-09T20:36:00+00:00   \n",
       "54    By Dilanthi Jayamanne                    0  2024-02-09T20:36:00+00:00   \n",
       "...                      ...                 ...                        ...   \n",
       "1770  By Dilanthi Jayamanne                    0  2024-02-09T20:36:00+00:00   \n",
       "1771        Author not found  Comments not found             Date not found   \n",
       "1772        Author not found  Comments not found             Date not found   \n",
       "1774        Author not found  Comments not found             Date not found   \n",
       "1775  By Dilanthi Jayamanne                    0  2024-02-09T20:36:00+00:00   \n",
       "\n",
       "                                                Content  \n",
       "10    In a startling revelation, Prof. Miyuru Chandr...  \n",
       "21    In a startling revelation, Prof. Miyuru Chandr...  \n",
       "32    In a startling revelation, Prof. Miyuru Chandr...  \n",
       "43    In a startling revelation, Prof. Miyuru Chandr...  \n",
       "54    In a startling revelation, Prof. Miyuru Chandr...  \n",
       "...                                                 ...  \n",
       "1770  In a startling revelation, Prof. Miyuru Chandr...  \n",
       "1771                                  Content not found  \n",
       "1772                                  Content not found  \n",
       "1774                                  Content not found  \n",
       "1775  In a startling revelation, Prof. Miyuru Chandr...  \n",
       "\n",
       "[405 rows x 6 columns]"
      ]
     },
     "execution_count": 11,
     "metadata": {},
     "output_type": "execute_result"
    }
   ],
   "source": [
    "df2"
   ]
  },
  {
   "cell_type": "code",
   "execution_count": 13,
   "metadata": {},
   "outputs": [
    {
     "data": {
      "text/plain": [
       "ONLY FOUR CHILD PSYCHIATRISTS FOR OVER 6M CHILDREN     162\n",
       "Title not found                                         23\n",
       "No need to fear monkeypox spreading in SL                2\n",
       "SJB’s Young Professionals’ Organisation inaugurated      2\n",
       "Defence gets more than other sectors – Herath            2\n",
       "                                                      ... \n",
       "Court orders stripping Myown of civic rights             1\n",
       "UNHCR office in North shuts down after 35 years          1\n",
       "CEB says PUCSL should give its decision soon             1\n",
       "Sepal Amarasinghe remanded till 10 January               1\n",
       "Chinese PM assures support for Sri Lanka                 1\n",
       "Name: title, Length: 210, dtype: int64"
      ]
     },
     "execution_count": 13,
     "metadata": {},
     "output_type": "execute_result"
    }
   ],
   "source": [
    "df2['title'].value_counts()"
   ]
  },
  {
   "cell_type": "code",
   "execution_count": null,
   "metadata": {},
   "outputs": [],
   "source": []
  }
 ],
 "metadata": {
  "kernelspec": {
   "display_name": "omdena",
   "language": "python",
   "name": "python3"
  },
  "language_info": {
   "codemirror_mode": {
    "name": "ipython",
    "version": 3
   },
   "file_extension": ".py",
   "mimetype": "text/x-python",
   "name": "python",
   "nbconvert_exporter": "python",
   "pygments_lexer": "ipython3",
   "version": "3.11.3"
  }
 },
 "nbformat": 4,
 "nbformat_minor": 2
}
