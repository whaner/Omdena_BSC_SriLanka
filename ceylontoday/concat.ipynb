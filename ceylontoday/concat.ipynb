{
 "cells": [
  {
   "cell_type": "code",
   "execution_count": 17,
   "metadata": {},
   "outputs": [],
   "source": [
    "import pandas as pd\n",
    "\n",
    "# Lista para armazenar DataFrames\n",
    "dfs = []\n",
    "\n",
    "# Loop de 1 a 11 para ler cada arquivo\n",
    "for i in range(0, 11):\n",
    "    # Gerar o nome do arquivo\n",
    "    filename = f'news-english-ceylon_today_daily-whaner_endo{i}.csv'\n",
    "    \n",
    "    # Ler o arquivo CSV e adicionar à lista\n",
    "    df = pd.read_csv(filename, encoding='utf-8')\n",
    "    dfs.append(df)\n",
    "\n",
    "# Concatenar todos os DataFrames na lista\n",
    "df_concatenado = pd.concat(dfs, ignore_index=True)\n"
   ]
  },
  {
   "cell_type": "code",
   "execution_count": 19,
   "metadata": {},
   "outputs": [],
   "source": [
    "# Opcional: Salvar o DataFrame concatenado em um novo arquivo CSV\n",
    "df_concatenado.to_csv('df_concatenado.csv', index=False)"
   ]
  },
  {
   "cell_type": "code",
   "execution_count": null,
   "metadata": {},
   "outputs": [],
   "source": [
    "ceylontoday/news-english-ceylon_today_daily-whaner_endo0.csv"
   ]
  }
 ],
 "metadata": {
  "kernelspec": {
   "display_name": "omdena",
   "language": "python",
   "name": "python3"
  },
  "language_info": {
   "codemirror_mode": {
    "name": "ipython",
    "version": 3
   },
   "file_extension": ".py",
   "mimetype": "text/x-python",
   "name": "python",
   "nbconvert_exporter": "python",
   "pygments_lexer": "ipython3",
   "version": "3.11.3"
  }
 },
 "nbformat": 4,
 "nbformat_minor": 2
}
