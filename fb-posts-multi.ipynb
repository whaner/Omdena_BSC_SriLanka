{
 "cells": [
  {
   "cell_type": "code",
   "execution_count": null,
   "id": "22f57855",
   "metadata": {},
   "outputs": [],
   "source": [
    "#pip install apify_client"
   ]
  },
  {
   "cell_type": "code",
   "execution_count": 7,
   "id": "e1e6117e",
   "metadata": {},
   "outputs": [],
   "source": [
    "import csv\n",
    "import json\n",
    "from apify_client import ApifyClient"
   ]
  },
  {
   "cell_type": "code",
   "execution_count": 12,
   "id": "7ee88123",
   "metadata": {},
   "outputs": [],
   "source": [
    "# Load API key from JSON file\n",
    "with open('content/apify_key.json', 'r') as file:\n",
    "    api_key_data = json.load(file)\n",
    "    api_key = api_key_data.get('key')  # Replace 'api_key' with the actual key field in your JSON"
   ]
  },
  {
   "cell_type": "code",
   "execution_count": 13,
   "id": "395679af",
   "metadata": {},
   "outputs": [],
   "source": [
    "# Initialize the ApifyClient with your API token\n",
    "client = ApifyClient(api_key)\n",
    "\n",
    "# Prepare the Actor input\n",
    "run_input = {\n",
    "    \"startUrls\": [\n",
    "                    {\"url\": \"https://web.facebook.com/WIFSriLanka\"},\n",
    "                    {\"url\": \"https://web.facebook.com/unwomenSriLanka\"},\n",
    "                    {\"url\": \"https://web.facebook.com/bhoomiharendranofficial\"},\n",
    "                    ],\n",
    "    \"resultsLimit\": 50,\n",
    "}\n",
    "\n",
    "# Run the Actor and wait for it to finish\n",
    "run = client.actor(\"KoJrdxJCTtpon81KY\").call(run_input=run_input)\n",
    "\n",
    "# Fetch and print Actor results from the run's dataset (if there are any)\n",
    "#for item in client.dataset(run[\"defaultDatasetId\"]).iterate_items():\n",
    "#    print(item)\n"
   ]
  },
  {
   "cell_type": "code",
   "execution_count": 16,
   "id": "ca93a76d",
   "metadata": {},
   "outputs": [],
   "source": [
    "data_set = client.dataset(run[\"defaultDatasetId\"])"
   ]
  },
  {
   "cell_type": "code",
   "execution_count": null,
   "id": "42ec8df9",
   "metadata": {},
   "outputs": [],
   "source": [
    "for item in client.dataset(run[\"defaultDatasetId\"]).iterate_items():\n",
    "   print(item)\n",
    "   break"
   ]
  },
  {
   "cell_type": "code",
   "execution_count": null,
   "id": "a6449e0c",
   "metadata": {},
   "outputs": [],
   "source": [
    "#for item in client.dataset(run[\"defaultDatasetId\"]).iterate_items():\n",
    "#    print(item.get(\"media\")[0].get(\"__typename\"))\n",
    "#    print(item.get(\"media\")[0].get(\"ocrText\"))\n",
    "#    break"
   ]
  },
  {
   "cell_type": "code",
   "execution_count": 18,
   "id": "23d650e1",
   "metadata": {},
   "outputs": [
    {
     "name": "stdout",
     "output_type": "stream",
     "text": [
      "CSV file 'content/fb_output_202401210136.csv' has been created successfully.\n"
     ]
    }
   ],
   "source": [
    "# Specify the CSV file path\n",
    "csv_file_path = 'content/fb_output_202401210136.csv'\n",
    "\n",
    "# Specify the fields to be extracted\n",
    "fields = ['postId','timestamp','facebookUrl', 'url', 'pageName', 'text', 'likes', 'comments', 'shares', 'Media_Type', 'ocrText']\n",
    "\n",
    "# Open the CSV file in write mode\n",
    "with open(csv_file_path, 'w', newline='', encoding='utf-8') as csv_file:\n",
    "    # Create a CSV writer object\n",
    "    csv_writer = csv.DictWriter(csv_file, fieldnames=fields)\n",
    "\n",
    "    # Write the header row\n",
    "    csv_writer.writeheader()\n",
    "\n",
    "    # Iterate through the list of dictionaries and write each row\n",
    "    for record in data_set.iterate_items():\n",
    "        # Extract relevant information from the dictionary\n",
    "        row = {\n",
    "            'postId':record.get('postId',''),\n",
    "            'timestamp':record.get('timestamp',''),\n",
    "            'facebookUrl': record.get('facebookUrl', ''),\n",
    "            'url': record.get('url', ''),\n",
    "            'pageName': record.get('pageName', ''),\n",
    "            'text': record.get('text', ''),\n",
    "            'likes': record.get('likes', ''),\n",
    "            'comments': record.get('comments', ''),\n",
    "            'shares': record.get('shares', ''),\n",
    "            'Media_Type': record.get(\"media\", [{}])[0].get(\"__typename\", ''),\n",
    "            'ocrText': record.get(\"media\", [{}])[0].get(\"ocrText\", '')\n",
    "        }\n",
    "\n",
    "        # Write the row to the CSV file\n",
    "        csv_writer.writerow(row)\n",
    "\n",
    "print(f\"CSV file '{csv_file_path}' has been created successfully.\")"
   ]
  },
  {
   "cell_type": "code",
   "execution_count": 17,
   "id": "a6af9e4f",
   "metadata": {},
   "outputs": [
    {
     "name": "stdout",
     "output_type": "stream",
     "text": [
      "CSV file 'content/fb_output_raw_202401240133.csv' has been created successfully.\n"
     ]
    }
   ],
   "source": [
    "# Specify the CSV file path\n",
    "csv_file_path = 'content/fb_output_raw_202401240133.csv'\n",
    "\n",
    "# Open the CSV file in write mode\n",
    "with open(csv_file_path, 'w', newline='', encoding='utf-8') as csv_file:\n",
    "    # Create a CSV writer object\n",
    "    csv_writer = csv.writer(csv_file)\n",
    "\n",
    "    # Write the header row if needed\n",
    "    # csv_writer.writerow(fields)\n",
    "\n",
    "    # Iterate through the list of dictionaries and write each row\n",
    "    for record in data_set.iterate_items():\n",
    "        # Extract relevant information from the dictionary\n",
    "        row = json.dumps(record)  # Convert the dictionary to a JSON string\n",
    "\n",
    "        # Write the row to the CSV file\n",
    "        csv_writer.writerow([row])\n",
    "\n",
    "print(f\"CSV file '{csv_file_path}' has been created successfully.\")"
   ]
  },
  {
   "cell_type": "code",
   "execution_count": 19,
   "id": "0089ac63",
   "metadata": {},
   "outputs": [
    {
     "name": "stdout",
     "output_type": "stream",
     "text": [
      "<apify_client.clients.resource_clients.dataset.DatasetClient object at 0x0000022E40BE0CD0>\n"
     ]
    }
   ],
   "source": [
    "print(data_set.iteraterow())"
   ]
  },
  {
   "cell_type": "code",
   "execution_count": null,
   "id": "eee19939",
   "metadata": {},
   "outputs": [],
   "source": []
  }
 ],
 "metadata": {
  "kernelspec": {
   "display_name": "Python 3 (ipykernel)",
   "language": "python",
   "name": "python3"
  },
  "language_info": {
   "codemirror_mode": {
    "name": "ipython",
    "version": 3
   },
   "file_extension": ".py",
   "mimetype": "text/x-python",
   "name": "python",
   "nbconvert_exporter": "python",
   "pygments_lexer": "ipython3",
   "version": "3.11.5"
  }
 },
 "nbformat": 4,
 "nbformat_minor": 5
}
